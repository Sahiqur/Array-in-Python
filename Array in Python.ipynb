{
 "cells": [
  {
   "cell_type": "code",
   "execution_count": 14,
   "id": "f5beb54b",
   "metadata": {},
   "outputs": [],
   "source": [
    "import array as ar"
   ]
  },
  {
   "cell_type": "code",
   "execution_count": 15,
   "id": "b746262c",
   "metadata": {},
   "outputs": [],
   "source": [
    "a=ar.array('i',[1,2,3,4,5,6,67,8])"
   ]
  },
  {
   "cell_type": "code",
   "execution_count": 16,
   "id": "1c4bd91c",
   "metadata": {},
   "outputs": [
    {
     "data": {
      "text/plain": [
       "array('i', [1, 2, 3, 4, 5, 6, 67, 8])"
      ]
     },
     "execution_count": 16,
     "metadata": {},
     "output_type": "execute_result"
    }
   ],
   "source": [
    "a"
   ]
  },
  {
   "cell_type": "code",
   "execution_count": 17,
   "id": "6e5d5f2e",
   "metadata": {},
   "outputs": [
    {
     "data": {
      "text/plain": [
       "array.array"
      ]
     },
     "execution_count": 17,
     "metadata": {},
     "output_type": "execute_result"
    }
   ],
   "source": [
    "type(a)"
   ]
  },
  {
   "cell_type": "code",
   "execution_count": 18,
   "id": "b6290808",
   "metadata": {},
   "outputs": [
    {
     "data": {
      "text/plain": [
       "4"
      ]
     },
     "execution_count": 18,
     "metadata": {},
     "output_type": "execute_result"
    }
   ],
   "source": [
    "a[3]"
   ]
  },
  {
   "cell_type": "code",
   "execution_count": 22,
   "id": "8d781d97",
   "metadata": {},
   "outputs": [],
   "source": [
    "a[0]=10"
   ]
  },
  {
   "cell_type": "code",
   "execution_count": 23,
   "id": "754a46c2",
   "metadata": {},
   "outputs": [
    {
     "data": {
      "text/plain": [
       "array('i', [10, 2, 3, 4, 5, 6, 67, 8])"
      ]
     },
     "execution_count": 23,
     "metadata": {},
     "output_type": "execute_result"
    }
   ],
   "source": [
    "a"
   ]
  },
  {
   "cell_type": "code",
   "execution_count": 24,
   "id": "a8353256",
   "metadata": {},
   "outputs": [
    {
     "data": {
      "text/plain": [
       "8"
      ]
     },
     "execution_count": 24,
     "metadata": {},
     "output_type": "execute_result"
    }
   ],
   "source": [
    "len(a)"
   ]
  },
  {
   "cell_type": "code",
   "execution_count": 25,
   "id": "8f233fb2",
   "metadata": {},
   "outputs": [],
   "source": [
    "a.reverse()"
   ]
  },
  {
   "cell_type": "code",
   "execution_count": 26,
   "id": "20e1b5bf",
   "metadata": {},
   "outputs": [
    {
     "data": {
      "text/plain": [
       "array('i', [8, 67, 6, 5, 4, 3, 2, 10])"
      ]
     },
     "execution_count": 26,
     "metadata": {},
     "output_type": "execute_result"
    }
   ],
   "source": [
    "a"
   ]
  },
  {
   "cell_type": "code",
   "execution_count": 28,
   "id": "09cbab48",
   "metadata": {},
   "outputs": [],
   "source": [
    "x=[a]"
   ]
  },
  {
   "cell_type": "code",
   "execution_count": 29,
   "id": "96728654",
   "metadata": {},
   "outputs": [
    {
     "data": {
      "text/plain": [
       "[array('i', [8, 67, 6, 5, 4, 3, 2, 10])]"
      ]
     },
     "execution_count": 29,
     "metadata": {},
     "output_type": "execute_result"
    }
   ],
   "source": [
    "x"
   ]
  },
  {
   "cell_type": "code",
   "execution_count": 31,
   "id": "f7caf46c",
   "metadata": {},
   "outputs": [
    {
     "data": {
      "text/plain": [
       "[array('i', [8, 67, 6, 5, 4, 3, 2, 10])]"
      ]
     },
     "execution_count": 31,
     "metadata": {},
     "output_type": "execute_result"
    }
   ],
   "source": [
    "x"
   ]
  },
  {
   "cell_type": "code",
   "execution_count": 38,
   "id": "9dd5137a",
   "metadata": {},
   "outputs": [
    {
     "name": "stdout",
     "output_type": "stream",
     "text": [
      "3\n",
      "1\n",
      "2\n",
      "3\n",
      "array('i', [1, 2, 3])\n"
     ]
    }
   ],
   "source": [
    "a=ar.array('i',[])\n",
    "item=int(input())\n",
    "for i in range(item):\n",
    "    val=int(input())\n",
    "    a.append(val)\n",
    "print(a)"
   ]
  },
  {
   "cell_type": "code",
   "execution_count": 44,
   "id": "dc2a8d5f",
   "metadata": {},
   "outputs": [
    {
     "name": "stdout",
     "output_type": "stream",
     "text": [
      "3\n",
      "1\n",
      "2\n",
      "3\n",
      "array('i', [1, 2, 3])\n"
     ]
    }
   ],
   "source": [
    "NewArray=ar.array('i',[])\n",
    "item=int(input())\n",
    "for i in range(item):\n",
    "    val=int(input())\n",
    "    NewArray.append(val)\n",
    "print(NewArray)"
   ]
  },
  {
   "cell_type": "code",
   "execution_count": 49,
   "id": "7d4bd4be",
   "metadata": {},
   "outputs": [
    {
     "data": {
      "text/plain": [
       "['Sahiq', 'Rakib', 'Asad', 'Abir']"
      ]
     },
     "execution_count": 49,
     "metadata": {},
     "output_type": "execute_result"
    }
   ],
   "source": [
    "ar=[\"Sahiq\",\"Rakib\",\"Asad\",\"Abir\"]\n",
    "ar"
   ]
  },
  {
   "cell_type": "code",
   "execution_count": 50,
   "id": "efdcc408",
   "metadata": {},
   "outputs": [
    {
     "data": {
      "text/plain": [
       "list"
      ]
     },
     "execution_count": 50,
     "metadata": {},
     "output_type": "execute_result"
    }
   ],
   "source": [
    "type(ar)"
   ]
  },
  {
   "cell_type": "code",
   "execution_count": 51,
   "id": "02b6839b",
   "metadata": {},
   "outputs": [],
   "source": [
    "ar.append(\"Khadiza\")"
   ]
  },
  {
   "cell_type": "code",
   "execution_count": 52,
   "id": "ecaab8d4",
   "metadata": {},
   "outputs": [
    {
     "data": {
      "text/plain": [
       "['Sahiq', 'Rakib', 'Asad', 'Abir', 'Khadiza']"
      ]
     },
     "execution_count": 52,
     "metadata": {},
     "output_type": "execute_result"
    }
   ],
   "source": [
    "ar"
   ]
  },
  {
   "cell_type": "code",
   "execution_count": 55,
   "id": "6b50589b",
   "metadata": {},
   "outputs": [
    {
     "data": {
      "text/plain": [
       "'Khadiza'"
      ]
     },
     "execution_count": 55,
     "metadata": {},
     "output_type": "execute_result"
    }
   ],
   "source": [
    "ar.pop(-1)"
   ]
  },
  {
   "cell_type": "code",
   "execution_count": 56,
   "id": "c0634cdc",
   "metadata": {},
   "outputs": [
    {
     "data": {
      "text/plain": [
       "['Sahiq', 'Rakib', 'Asad', 'Abir']"
      ]
     },
     "execution_count": 56,
     "metadata": {},
     "output_type": "execute_result"
    }
   ],
   "source": [
    "ar"
   ]
  },
  {
   "cell_type": "code",
   "execution_count": 57,
   "id": "54ec735c",
   "metadata": {},
   "outputs": [],
   "source": [
    "ar.clear()"
   ]
  },
  {
   "cell_type": "code",
   "execution_count": 58,
   "id": "fed8c4d0",
   "metadata": {},
   "outputs": [
    {
     "data": {
      "text/plain": [
       "[]"
      ]
     },
     "execution_count": 58,
     "metadata": {},
     "output_type": "execute_result"
    }
   ],
   "source": [
    "ar"
   ]
  },
  {
   "cell_type": "code",
   "execution_count": 60,
   "id": "7dd634ed",
   "metadata": {},
   "outputs": [],
   "source": [
    "ar.insert(1,\"Abir Ahammad\")"
   ]
  },
  {
   "cell_type": "code",
   "execution_count": 61,
   "id": "5a7f5945",
   "metadata": {},
   "outputs": [
    {
     "data": {
      "text/plain": [
       "['Abir Ahammad']"
      ]
     },
     "execution_count": 61,
     "metadata": {},
     "output_type": "execute_result"
    }
   ],
   "source": [
    "ar"
   ]
  },
  {
   "cell_type": "code",
   "execution_count": 62,
   "id": "f3540b93",
   "metadata": {},
   "outputs": [],
   "source": [
    "ar.insert(2,\"Sahiqur Rahman\")"
   ]
  },
  {
   "cell_type": "code",
   "execution_count": 63,
   "id": "6786c78f",
   "metadata": {},
   "outputs": [
    {
     "data": {
      "text/plain": [
       "['Abir Ahammad', 'Sahiqur Rahman']"
      ]
     },
     "execution_count": 63,
     "metadata": {},
     "output_type": "execute_result"
    }
   ],
   "source": [
    "ar\n"
   ]
  },
  {
   "cell_type": "code",
   "execution_count": null,
   "id": "548ada69",
   "metadata": {},
   "outputs": [],
   "source": []
  }
 ],
 "metadata": {
  "kernelspec": {
   "display_name": "Python 3 (ipykernel)",
   "language": "python",
   "name": "python3"
  },
  "language_info": {
   "codemirror_mode": {
    "name": "ipython",
    "version": 3
   },
   "file_extension": ".py",
   "mimetype": "text/x-python",
   "name": "python",
   "nbconvert_exporter": "python",
   "pygments_lexer": "ipython3",
   "version": "3.11.5"
  }
 },
 "nbformat": 4,
 "nbformat_minor": 5
}
